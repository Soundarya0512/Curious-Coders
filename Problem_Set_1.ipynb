{
  "nbformat": 4,
  "nbformat_minor": 0,
  "metadata": {
    "colab": {
      "provenance": []
    },
    "kernelspec": {
      "name": "python3",
      "display_name": "Python 3"
    },
    "language_info": {
      "name": "python"
    }
  },
  "cells": [
    {
      "cell_type": "markdown",
      "source": [
        "**Prob 1 : Write a program that takes an integer, then a string, then a char from the user and prints them in the screen.**\n",
        "\n",
        "\n",
        "**Input:  2 Name y**\n",
        "\n",
        "**Expected Output:**\n",
        "\n",
        "**2**\n",
        "\n",
        "**Name**\n",
        "\n",
        "**y**"
      ],
      "metadata": {
        "id": "x0g_EfVTLfK6"
      }
    },
    {
      "cell_type": "code",
      "source": [
        "input1=input(\"Input: \")\n",
        "parts=input1.split()\n",
        "for i in parts:\n",
        "    print(\"Output: \",i)"
      ],
      "metadata": {
        "colab": {
          "base_uri": "https://localhost:8080/"
        },
        "id": "kzSupO4TLbyj",
        "outputId": "7aeb9150-4e1f-4e6b-e697-4239bc1fad33"
      },
      "execution_count": 2,
      "outputs": [
        {
          "output_type": "stream",
          "name": "stdout",
          "text": [
            "Input: 2 Name y\n",
            "Output:  2\n",
            "Output:  Name\n",
            "Output:  y\n"
          ]
        }
      ]
    },
    {
      "cell_type": "markdown",
      "source": [
        "**Prob 2: Write a program to check whether a triangle can be formed with the given values for the angles.**\n",
        "\n",
        "**If sum of angles is equal to 180, then triangle can be formed, else it can't be formed.**\n",
        "\n",
        "**Input: 45 45 45**\n",
        "\n",
        "Expected Output:\n",
        "\n",
        "**Triangle cannot be formed**\n",
        "\n",
        "**Explanation -> We are getting 3 inputs, that is three angles of triangle, but here the sum of three angles that is 45+45+45 is not equal to 180 so Triangle cannot be formed is the output**."
      ],
      "metadata": {
        "id": "_Tsn6TrhLzyS"
      }
    },
    {
      "cell_type": "code",
      "source": [
        "user_input=input(\"Input: \")\n",
        "parts=user_input.split()\n",
        "\n",
        "for i in parts:\n",
        "  a,b,c= parts\n",
        "print(\"a: \",a)\n",
        "print(\"b: \",b)\n",
        "print(\"c: \",c)\n",
        "sum=int(a)+int(b)+int(c)\n",
        "print(\"sum: \",sum)\n",
        "if sum==180:\n",
        "  print(\"Triangle can be formed\")\n",
        "else:\n",
        "  print(\"Triangle cannot be formed\")"
      ],
      "metadata": {
        "colab": {
          "base_uri": "https://localhost:8080/"
        },
        "id": "V_fG5mJeMEL0",
        "outputId": "1747c3b4-d56d-40a0-a2d9-105439c93c24"
      },
      "execution_count": 7,
      "outputs": [
        {
          "output_type": "stream",
          "name": "stdout",
          "text": [
            "Input: 45 90 45\n",
            "a:  45\n",
            "b:  90\n",
            "c:  45\n",
            "sum:  180\n",
            "Triangle can be formed\n"
          ]
        }
      ]
    },
    {
      "cell_type": "markdown",
      "source": [
        "**Prob 3:**\n",
        "\n",
        "**Given mark of student, Print the Grade**\n",
        "\n",
        "**Grade A if mark is greater than or equal to 90**\n",
        "\n",
        "**Grade B if mark is greater than or equal to 80**\n",
        "\n",
        "**Grade C if mark if greater than or equal to 60**\n",
        "\n",
        "**Grade D if mark if greaer than or equal to 35**\n",
        "\n",
        "**Fail if mark is lesser than 35**\n",
        "\n",
        "\n",
        "**Input: 95**\n",
        "\n",
        "**Expected Output:**\n",
        "\n",
        "**Grade A**\n",
        "\n",
        "**Explanation: Here 95 is greater than or equal to 90 so its Grade A**"
      ],
      "metadata": {
        "id": "jN9F98ehPUB5"
      }
    },
    {
      "cell_type": "code",
      "source": [
        "Marks=int(input(\"Input: \"))\n",
        "if Marks>=90:\n",
        "  print(\"Grade A\")\n",
        "elif Marks>=80:\n",
        "  print(\"Grade B\")\n",
        "elif Marks>=60:\n",
        "  print(\"Grade C\")\n",
        "elif Marks>=35:\n",
        "  print(\"Grade D\")\n",
        "else:\n",
        "  print(\"Fail\")"
      ],
      "metadata": {
        "colab": {
          "base_uri": "https://localhost:8080/"
        },
        "id": "8GL5laLWPli6",
        "outputId": "547f157a-bc36-4478-b3e2-5f61bd74260e"
      },
      "execution_count": 8,
      "outputs": [
        {
          "output_type": "stream",
          "name": "stdout",
          "text": [
            "Input: 95\n",
            "Grade A\n"
          ]
        }
      ]
    },
    {
      "cell_type": "markdown",
      "source": [
        "**Prob 4: Write a program using switch case which takes a value and prints the respective Size.**\n",
        "\n",
        "**If size is 29 then its small**\n",
        "\n",
        "**If size is 30 then its Medium**\n",
        "\n",
        "**If size is 38 then its Large**\n",
        "\n",
        "**If size is 42 then its XLarge**\n",
        "\n",
        "**If size is not any of the above then Invalid.**\n",
        "\n",
        "\n",
        "\n",
        "**Input: 29**\n",
        "\n",
        "**Expected Output:**\n",
        "\n",
        "**Small**"
      ],
      "metadata": {
        "id": "_pwP3NkaP9r0"
      }
    },
    {
      "cell_type": "code",
      "source": [
        "value=int(input(\"Input: \"))\n",
        "\n",
        "match value:\n",
        "  case 29:\n",
        "    print(\"Small\")\n",
        "\n",
        "  case 30:\n",
        "    print(\"Medium\")\n",
        "\n",
        "  case 38:\n",
        "    print(\"Large\")\n",
        "\n",
        "  case 42:\n",
        "    print(\"XLarge\")\n",
        "\n",
        "  case _:\n",
        "    print(\"Invalid\")"
      ],
      "metadata": {
        "colab": {
          "base_uri": "https://localhost:8080/"
        },
        "id": "CP1kCeYAQONM",
        "outputId": "58b277d4-682b-46bb-a520-f799a1731741"
      },
      "execution_count": 11,
      "outputs": [
        {
          "output_type": "stream",
          "name": "stdout",
          "text": [
            "Input: 48\n",
            "Invalid\n"
          ]
        }
      ]
    }
  ]
}